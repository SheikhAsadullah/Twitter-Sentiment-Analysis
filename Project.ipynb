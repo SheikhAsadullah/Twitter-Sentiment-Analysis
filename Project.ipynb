{
 "cells": [
  {
   "cell_type": "code",
   "execution_count": 1,
   "id": "fe4e5f48",
   "metadata": {},
   "outputs": [],
   "source": [
    "import pandas as pd"
   ]
  },
  {
   "cell_type": "markdown",
   "id": "e7ea3b1f",
   "metadata": {},
   "source": [
    "# Reading the data"
   ]
  },
  {
   "cell_type": "code",
   "execution_count": 2,
   "id": "8364e91d",
   "metadata": {},
   "outputs": [],
   "source": [
    "data = pd.read_csv('Twitter_Data.csv')"
   ]
  },
  {
   "cell_type": "code",
   "execution_count": 3,
   "id": "f5145cc4",
   "metadata": {},
   "outputs": [
    {
     "name": "stdout",
     "output_type": "stream",
     "text": [
      "                                          clean_text  category\n",
      "0  when modi promised “minimum government maximum...      -1.0\n",
      "1  talk all the nonsense and continue all the dra...       0.0\n",
      "2  what did just say vote for modi  welcome bjp t...       1.0\n",
      "3  asking his supporters prefix chowkidar their n...       1.0\n",
      "4  answer who among these the most powerful world...       1.0\n"
     ]
    }
   ],
   "source": [
    "print(data.head())"
   ]
  },
  {
   "cell_type": "markdown",
   "id": "8d1b7ae5",
   "metadata": {},
   "source": [
    "# Changing the dependent variable to categorical. ( 0 to “Neutral,” -1 to “Negative”, 1 to “Positive”)\n"
   ]
  },
  {
   "cell_type": "code",
   "execution_count": 4,
   "id": "ab8ef9f1",
   "metadata": {},
   "outputs": [],
   "source": [
    "data['category'] = data['category'].map({0:'Neutral',-1:'Negative',1:'Positive'})"
   ]
  },
  {
   "cell_type": "code",
   "execution_count": 5,
   "id": "356c4bd2",
   "metadata": {},
   "outputs": [
    {
     "name": "stdout",
     "output_type": "stream",
     "text": [
      "                                          clean_text  category\n",
      "0  when modi promised “minimum government maximum...  Negative\n",
      "1  talk all the nonsense and continue all the dra...   Neutral\n",
      "2  what did just say vote for modi  welcome bjp t...  Positive\n",
      "3  asking his supporters prefix chowkidar their n...  Positive\n",
      "4  answer who among these the most powerful world...  Positive\n"
     ]
    }
   ],
   "source": [
    "print(data.head())"
   ]
  },
  {
   "cell_type": "markdown",
   "id": "31798812",
   "metadata": {},
   "source": [
    "# Performing Missing value analysis and droping null/missing values"
   ]
  },
  {
   "cell_type": "code",
   "execution_count": 6,
   "id": "4661d328",
   "metadata": {
    "scrolled": true
   },
   "outputs": [
    {
     "data": {
      "text/plain": [
       "clean_text    4\n",
       "category      7\n",
       "dtype: int64"
      ]
     },
     "execution_count": 6,
     "metadata": {},
     "output_type": "execute_result"
    }
   ],
   "source": [
    "data.isnull().sum()"
   ]
  },
  {
   "cell_type": "code",
   "execution_count": 7,
   "id": "a8b7e3df",
   "metadata": {},
   "outputs": [],
   "source": [
    "data = data.dropna()"
   ]
  },
  {
   "cell_type": "code",
   "execution_count": 8,
   "id": "675ce499",
   "metadata": {},
   "outputs": [
    {
     "data": {
      "text/plain": [
       "clean_text    0\n",
       "category      0\n",
       "dtype: int64"
      ]
     },
     "execution_count": 8,
     "metadata": {},
     "output_type": "execute_result"
    }
   ],
   "source": [
    "data.isnull().sum()"
   ]
  },
  {
   "cell_type": "markdown",
   "id": "cb03c7da",
   "metadata": {},
   "source": [
    "# Performing text cleaning. (remove every symbol except alphanumeric, transform all words to lower case, and remove punctuation and stopwords)"
   ]
  },
  {
   "cell_type": "code",
   "execution_count": 9,
   "id": "1fb13928",
   "metadata": {},
   "outputs": [
    {
     "name": "stderr",
     "output_type": "stream",
     "text": [
      "[nltk_data] Downloading package stopwords to\n",
      "[nltk_data]     C:\\Users\\Dell\\AppData\\Roaming\\nltk_data...\n",
      "[nltk_data]   Package stopwords is already up-to-date!\n"
     ]
    },
    {
     "data": {
      "text/plain": [
       "True"
      ]
     },
     "execution_count": 9,
     "metadata": {},
     "output_type": "execute_result"
    }
   ],
   "source": [
    "import re\n",
    "import nltk\n",
    "from nltk.corpus import stopwords\n",
    "nltk.download('stopwords')"
   ]
  },
  {
   "cell_type": "code",
   "execution_count": 10,
   "id": "1e05c5ff",
   "metadata": {},
   "outputs": [],
   "source": [
    "stop_words = set(stopwords.words('english'))"
   ]
  },
  {
   "cell_type": "code",
   "execution_count": 11,
   "id": "92770d89",
   "metadata": {},
   "outputs": [],
   "source": [
    "def clean(tweet):\n",
    "    tweet = re.sub(r'[^a-zA-Z0-9\\s]', '', tweet)\n",
    "    tweet = tweet.lower()\n",
    "    tweet = ' '.join(word for word in tweet.split() if word not in stop_words)\n",
    "    return tweet"
   ]
  },
  {
   "cell_type": "code",
   "execution_count": 12,
   "id": "288f092d",
   "metadata": {},
   "outputs": [],
   "source": [
    "data['clean_text'] = data['clean_text'].apply(clean)"
   ]
  },
  {
   "cell_type": "markdown",
   "id": "f767425a",
   "metadata": {},
   "source": [
    "# Creating a new column and find the length of each sentence (how many words they contain)"
   ]
  },
  {
   "cell_type": "code",
   "execution_count": 13,
   "id": "8a18005d",
   "metadata": {},
   "outputs": [],
   "source": [
    "data['tweet_length'] = data['clean_text'].apply(lambda x: len(x.split()))"
   ]
  },
  {
   "cell_type": "code",
   "execution_count": 14,
   "id": "199b14d9",
   "metadata": {},
   "outputs": [
    {
     "name": "stdout",
     "output_type": "stream",
     "text": [
      "                                          clean_text  category  tweet_length\n",
      "0  modi promised minimum government maximum gover...  Negative            21\n",
      "1             talk nonsense continue drama vote modi   Neutral             6\n",
      "2  say vote modi welcome bjp told rahul main camp...  Positive            13\n",
      "3  asking supporters prefix chowkidar names modi ...  Positive            19\n",
      "4  answer among powerful world leader today trump...  Positive            10\n"
     ]
    }
   ],
   "source": [
    "print(data.head())"
   ]
  },
  {
   "cell_type": "markdown",
   "id": "aa0d81fe",
   "metadata": {},
   "source": [
    "# Spliting data into dependent(X) and independent(Y) dataframe"
   ]
  },
  {
   "cell_type": "code",
   "execution_count": 15,
   "id": "b02af63f",
   "metadata": {},
   "outputs": [],
   "source": [
    "X = data['clean_text']"
   ]
  },
  {
   "cell_type": "code",
   "execution_count": 16,
   "id": "d1794fa5",
   "metadata": {},
   "outputs": [],
   "source": [
    "Y = data['category']"
   ]
  },
  {
   "cell_type": "markdown",
   "id": "c1a3b7ad",
   "metadata": {},
   "source": [
    "# Performing operations on text data  "
   ]
  },
  {
   "cell_type": "code",
   "execution_count": 17,
   "id": "2f67eea7",
   "metadata": {},
   "outputs": [],
   "source": [
    "import tensorflow as tf"
   ]
  },
  {
   "cell_type": "code",
   "execution_count": 18,
   "id": "ac7d6885",
   "metadata": {},
   "outputs": [],
   "source": [
    "from tensorflow.keras.preprocessing.text import Tokenizer\n",
    "from tensorflow.keras.preprocessing.sequence import pad_sequences"
   ]
  },
  {
   "cell_type": "markdown",
   "id": "b3a323d3",
   "metadata": {},
   "source": [
    "### Performing one-hot encoding for each sentence (using TensorFlow)"
   ]
  },
  {
   "cell_type": "code",
   "execution_count": 19,
   "id": "f05a5e33",
   "metadata": {},
   "outputs": [],
   "source": [
    "Y_encoded = pd.get_dummies(Y)"
   ]
  },
  {
   "cell_type": "code",
   "execution_count": 20,
   "id": "cbeae54b",
   "metadata": {},
   "outputs": [],
   "source": [
    "tokenizer = Tokenizer()"
   ]
  },
  {
   "cell_type": "code",
   "execution_count": 21,
   "id": "c886dcc5",
   "metadata": {},
   "outputs": [],
   "source": [
    "tokenizer.fit_on_texts(X)"
   ]
  },
  {
   "cell_type": "code",
   "execution_count": 22,
   "id": "150ff405",
   "metadata": {},
   "outputs": [],
   "source": [
    "X_sequences = tokenizer.texts_to_sequences(X)"
   ]
  },
  {
   "cell_type": "markdown",
   "id": "aa076761",
   "metadata": {},
   "source": [
    "### Adding padding from the front side (using Tensorflow)"
   ]
  },
  {
   "cell_type": "code",
   "execution_count": 23,
   "id": "c130fecf",
   "metadata": {},
   "outputs": [],
   "source": [
    "max_len = max(data['tweet_length'])"
   ]
  },
  {
   "cell_type": "code",
   "execution_count": 24,
   "id": "ff5193ca",
   "metadata": {},
   "outputs": [],
   "source": [
    "X_padded = pad_sequences(X_sequences, maxlen=max_len, padding='pre')"
   ]
  },
  {
   "cell_type": "markdown",
   "id": "103eaf8e",
   "metadata": {},
   "source": [
    "### Building an LSTM model and compile it"
   ]
  },
  {
   "cell_type": "code",
   "execution_count": 25,
   "id": "00beaad3",
   "metadata": {},
   "outputs": [],
   "source": [
    "from tensorflow.keras.models import Sequential\n",
    "from tensorflow.keras.layers import Embedding, LSTM, Dense, Dropout"
   ]
  },
  {
   "cell_type": "code",
   "execution_count": 26,
   "id": "19e9aaef",
   "metadata": {},
   "outputs": [],
   "source": [
    "vocab_size = len(tokenizer.word_index) + 1"
   ]
  },
  {
   "cell_type": "code",
   "execution_count": 27,
   "id": "04a6c456",
   "metadata": {},
   "outputs": [],
   "source": [
    "embedding_dim = 100"
   ]
  },
  {
   "cell_type": "code",
   "execution_count": 28,
   "id": "967b9fd6",
   "metadata": {},
   "outputs": [],
   "source": [
    "input_length = max_len"
   ]
  },
  {
   "cell_type": "code",
   "execution_count": 29,
   "id": "828d89d2",
   "metadata": {},
   "outputs": [],
   "source": [
    "model = Sequential()"
   ]
  },
  {
   "cell_type": "code",
   "execution_count": 30,
   "id": "e4ae094f",
   "metadata": {},
   "outputs": [
    {
     "name": "stderr",
     "output_type": "stream",
     "text": [
      "C:\\Users\\Dell\\anaconda3\\Lib\\site-packages\\keras\\src\\layers\\core\\embedding.py:86: UserWarning: Argument `input_length` is deprecated. Just remove it.\n",
      "  warnings.warn(\n"
     ]
    }
   ],
   "source": [
    "model.add(Embedding(input_dim=vocab_size, output_dim=embedding_dim, input_length=input_length))"
   ]
  },
  {
   "cell_type": "code",
   "execution_count": 31,
   "id": "db807a9f",
   "metadata": {},
   "outputs": [],
   "source": [
    "model.add(LSTM(128, return_sequences=True))"
   ]
  },
  {
   "cell_type": "code",
   "execution_count": 32,
   "id": "4552b7c1",
   "metadata": {},
   "outputs": [],
   "source": [
    "model.add(Dropout(0.5))"
   ]
  },
  {
   "cell_type": "code",
   "execution_count": 33,
   "id": "ffc77a75",
   "metadata": {},
   "outputs": [],
   "source": [
    "model.add(LSTM(64))"
   ]
  },
  {
   "cell_type": "code",
   "execution_count": 34,
   "id": "fb9ba7b1",
   "metadata": {},
   "outputs": [],
   "source": [
    "model.add(Dense(3, activation='softmax'))"
   ]
  },
  {
   "cell_type": "code",
   "execution_count": 35,
   "id": "ed6e7561",
   "metadata": {},
   "outputs": [],
   "source": [
    "model.compile(loss='categorical_crossentropy', optimizer='adam', metrics=['accuracy'])"
   ]
  },
  {
   "cell_type": "code",
   "execution_count": 36,
   "id": "1aa0c1b0",
   "metadata": {},
   "outputs": [
    {
     "data": {
      "text/html": [
       "<pre style=\"white-space:pre;overflow-x:auto;line-height:normal;font-family:Menlo,'DejaVu Sans Mono',consolas,'Courier New',monospace\"><span style=\"font-weight: bold\">Model: \"sequential\"</span>\n",
       "</pre>\n"
      ],
      "text/plain": [
       "\u001b[1mModel: \"sequential\"\u001b[0m\n"
      ]
     },
     "metadata": {},
     "output_type": "display_data"
    },
    {
     "data": {
      "text/html": [
       "<pre style=\"white-space:pre;overflow-x:auto;line-height:normal;font-family:Menlo,'DejaVu Sans Mono',consolas,'Courier New',monospace\">┏━━━━━━━━━━━━━━━━━━━━━━━━━━━━━━━━━━━━━━┳━━━━━━━━━━━━━━━━━━━━━━━━━━━━━┳━━━━━━━━━━━━━━━━━┓\n",
       "┃<span style=\"font-weight: bold\"> Layer (type)                         </span>┃<span style=\"font-weight: bold\"> Output Shape                </span>┃<span style=\"font-weight: bold\">         Param # </span>┃\n",
       "┡━━━━━━━━━━━━━━━━━━━━━━━━━━━━━━━━━━━━━━╇━━━━━━━━━━━━━━━━━━━━━━━━━━━━━╇━━━━━━━━━━━━━━━━━┩\n",
       "│ embedding (<span style=\"color: #0087ff; text-decoration-color: #0087ff\">Embedding</span>)                │ ?                           │     <span style=\"color: #00af00; text-decoration-color: #00af00\">0</span> (unbuilt) │\n",
       "├──────────────────────────────────────┼─────────────────────────────┼─────────────────┤\n",
       "│ lstm (<span style=\"color: #0087ff; text-decoration-color: #0087ff\">LSTM</span>)                          │ ?                           │     <span style=\"color: #00af00; text-decoration-color: #00af00\">0</span> (unbuilt) │\n",
       "├──────────────────────────────────────┼─────────────────────────────┼─────────────────┤\n",
       "│ dropout (<span style=\"color: #0087ff; text-decoration-color: #0087ff\">Dropout</span>)                    │ ?                           │               <span style=\"color: #00af00; text-decoration-color: #00af00\">0</span> │\n",
       "├──────────────────────────────────────┼─────────────────────────────┼─────────────────┤\n",
       "│ lstm_1 (<span style=\"color: #0087ff; text-decoration-color: #0087ff\">LSTM</span>)                        │ ?                           │     <span style=\"color: #00af00; text-decoration-color: #00af00\">0</span> (unbuilt) │\n",
       "├──────────────────────────────────────┼─────────────────────────────┼─────────────────┤\n",
       "│ dense (<span style=\"color: #0087ff; text-decoration-color: #0087ff\">Dense</span>)                        │ ?                           │     <span style=\"color: #00af00; text-decoration-color: #00af00\">0</span> (unbuilt) │\n",
       "└──────────────────────────────────────┴─────────────────────────────┴─────────────────┘\n",
       "</pre>\n"
      ],
      "text/plain": [
       "┏━━━━━━━━━━━━━━━━━━━━━━━━━━━━━━━━━━━━━━┳━━━━━━━━━━━━━━━━━━━━━━━━━━━━━┳━━━━━━━━━━━━━━━━━┓\n",
       "┃\u001b[1m \u001b[0m\u001b[1mLayer (type)                        \u001b[0m\u001b[1m \u001b[0m┃\u001b[1m \u001b[0m\u001b[1mOutput Shape               \u001b[0m\u001b[1m \u001b[0m┃\u001b[1m \u001b[0m\u001b[1m        Param #\u001b[0m\u001b[1m \u001b[0m┃\n",
       "┡━━━━━━━━━━━━━━━━━━━━━━━━━━━━━━━━━━━━━━╇━━━━━━━━━━━━━━━━━━━━━━━━━━━━━╇━━━━━━━━━━━━━━━━━┩\n",
       "│ embedding (\u001b[38;5;33mEmbedding\u001b[0m)                │ ?                           │     \u001b[38;5;34m0\u001b[0m (unbuilt) │\n",
       "├──────────────────────────────────────┼─────────────────────────────┼─────────────────┤\n",
       "│ lstm (\u001b[38;5;33mLSTM\u001b[0m)                          │ ?                           │     \u001b[38;5;34m0\u001b[0m (unbuilt) │\n",
       "├──────────────────────────────────────┼─────────────────────────────┼─────────────────┤\n",
       "│ dropout (\u001b[38;5;33mDropout\u001b[0m)                    │ ?                           │               \u001b[38;5;34m0\u001b[0m │\n",
       "├──────────────────────────────────────┼─────────────────────────────┼─────────────────┤\n",
       "│ lstm_1 (\u001b[38;5;33mLSTM\u001b[0m)                        │ ?                           │     \u001b[38;5;34m0\u001b[0m (unbuilt) │\n",
       "├──────────────────────────────────────┼─────────────────────────────┼─────────────────┤\n",
       "│ dense (\u001b[38;5;33mDense\u001b[0m)                        │ ?                           │     \u001b[38;5;34m0\u001b[0m (unbuilt) │\n",
       "└──────────────────────────────────────┴─────────────────────────────┴─────────────────┘\n"
      ]
     },
     "metadata": {},
     "output_type": "display_data"
    },
    {
     "data": {
      "text/html": [
       "<pre style=\"white-space:pre;overflow-x:auto;line-height:normal;font-family:Menlo,'DejaVu Sans Mono',consolas,'Courier New',monospace\"><span style=\"font-weight: bold\"> Total params: </span><span style=\"color: #00af00; text-decoration-color: #00af00\">0</span> (0.00 B)\n",
       "</pre>\n"
      ],
      "text/plain": [
       "\u001b[1m Total params: \u001b[0m\u001b[38;5;34m0\u001b[0m (0.00 B)\n"
      ]
     },
     "metadata": {},
     "output_type": "display_data"
    },
    {
     "data": {
      "text/html": [
       "<pre style=\"white-space:pre;overflow-x:auto;line-height:normal;font-family:Menlo,'DejaVu Sans Mono',consolas,'Courier New',monospace\"><span style=\"font-weight: bold\"> Trainable params: </span><span style=\"color: #00af00; text-decoration-color: #00af00\">0</span> (0.00 B)\n",
       "</pre>\n"
      ],
      "text/plain": [
       "\u001b[1m Trainable params: \u001b[0m\u001b[38;5;34m0\u001b[0m (0.00 B)\n"
      ]
     },
     "metadata": {},
     "output_type": "display_data"
    },
    {
     "data": {
      "text/html": [
       "<pre style=\"white-space:pre;overflow-x:auto;line-height:normal;font-family:Menlo,'DejaVu Sans Mono',consolas,'Courier New',monospace\"><span style=\"font-weight: bold\"> Non-trainable params: </span><span style=\"color: #00af00; text-decoration-color: #00af00\">0</span> (0.00 B)\n",
       "</pre>\n"
      ],
      "text/plain": [
       "\u001b[1m Non-trainable params: \u001b[0m\u001b[38;5;34m0\u001b[0m (0.00 B)\n"
      ]
     },
     "metadata": {},
     "output_type": "display_data"
    }
   ],
   "source": [
    "model.summary()"
   ]
  },
  {
   "cell_type": "markdown",
   "id": "ea386d05",
   "metadata": {},
   "source": [
    "### spliting the data into tests and train "
   ]
  },
  {
   "cell_type": "code",
   "execution_count": 37,
   "id": "b734c7b9",
   "metadata": {},
   "outputs": [],
   "source": [
    "from sklearn.model_selection import train_test_split"
   ]
  },
  {
   "cell_type": "code",
   "execution_count": 38,
   "id": "59f8bff7",
   "metadata": {},
   "outputs": [],
   "source": [
    "X_train, X_test, Y_train, Y_test = train_test_split(X_padded, Y_encoded, test_size=0.2, random_state=42)"
   ]
  },
  {
   "cell_type": "code",
   "execution_count": 39,
   "id": "49efb00a",
   "metadata": {},
   "outputs": [
    {
     "name": "stdout",
     "output_type": "stream",
     "text": [
      "(130375, 43) (32594, 43) (130375, 3) (32594, 3)\n"
     ]
    }
   ],
   "source": [
    "print(X_train.shape, X_test.shape, Y_train.shape, Y_test.shape)"
   ]
  },
  {
   "cell_type": "markdown",
   "id": "fcc9682c",
   "metadata": {},
   "source": [
    "# Training new model"
   ]
  },
  {
   "cell_type": "code",
   "execution_count": 40,
   "id": "9f71b1b6",
   "metadata": {
    "scrolled": true
   },
   "outputs": [
    {
     "name": "stdout",
     "output_type": "stream",
     "text": [
      "Epoch 1/5\n",
      "\u001b[1m3260/3260\u001b[0m \u001b[32m━━━━━━━━━━━━━━━━━━━━\u001b[0m\u001b[37m\u001b[0m \u001b[1m434s\u001b[0m 131ms/step - accuracy: 0.7965 - loss: 0.5162 - val_accuracy: 0.9190 - val_loss: 0.2731\n",
      "Epoch 2/5\n",
      "\u001b[1m3260/3260\u001b[0m \u001b[32m━━━━━━━━━━━━━━━━━━━━\u001b[0m\u001b[37m\u001b[0m \u001b[1m418s\u001b[0m 128ms/step - accuracy: 0.9307 - loss: 0.2270 - val_accuracy: 0.9147 - val_loss: 0.2788\n",
      "Epoch 3/5\n",
      "\u001b[1m3260/3260\u001b[0m \u001b[32m━━━━━━━━━━━━━━━━━━━━\u001b[0m\u001b[37m\u001b[0m \u001b[1m427s\u001b[0m 131ms/step - accuracy: 0.9557 - loss: 0.1474 - val_accuracy: 0.9060 - val_loss: 0.3147\n",
      "Epoch 4/5\n",
      "\u001b[1m3260/3260\u001b[0m \u001b[32m━━━━━━━━━━━━━━━━━━━━\u001b[0m\u001b[37m\u001b[0m \u001b[1m426s\u001b[0m 131ms/step - accuracy: 0.9704 - loss: 0.0964 - val_accuracy: 0.8919 - val_loss: 0.3876\n",
      "Epoch 5/5\n",
      "\u001b[1m3260/3260\u001b[0m \u001b[32m━━━━━━━━━━━━━━━━━━━━\u001b[0m\u001b[37m\u001b[0m \u001b[1m429s\u001b[0m 131ms/step - accuracy: 0.9799 - loss: 0.0630 - val_accuracy: 0.8893 - val_loss: 0.4621\n"
     ]
    }
   ],
   "source": [
    "history = model.fit(X_train, Y_train, epochs=5, batch_size=32, validation_split=0.2)"
   ]
  },
  {
   "cell_type": "markdown",
   "id": "65730ba6",
   "metadata": {},
   "source": [
    "# Normalizing the prediction as same as the original data(prediction might be in decimal, so whoever is nearest to 1 is predicted as yes and set other as 0)"
   ]
  },
  {
   "cell_type": "code",
   "execution_count": 41,
   "id": "99253d8e",
   "metadata": {},
   "outputs": [
    {
     "name": "stdout",
     "output_type": "stream",
     "text": [
      "\u001b[1m1019/1019\u001b[0m \u001b[32m━━━━━━━━━━━━━━━━━━━━\u001b[0m\u001b[37m\u001b[0m \u001b[1m22s\u001b[0m 22ms/step\n"
     ]
    }
   ],
   "source": [
    "Y_pred_prob = model.predict(X_test)"
   ]
  },
  {
   "cell_type": "code",
   "execution_count": 42,
   "id": "8b348cdc",
   "metadata": {},
   "outputs": [],
   "source": [
    "Y_pred = Y_pred_prob.argmax(axis=1)"
   ]
  },
  {
   "cell_type": "code",
   "execution_count": 43,
   "id": "ebd885df",
   "metadata": {},
   "outputs": [],
   "source": [
    "Y_test_labels = Y_test.values.argmax(axis=1)"
   ]
  },
  {
   "cell_type": "code",
   "execution_count": 44,
   "id": "df138dec",
   "metadata": {},
   "outputs": [],
   "source": [
    "category_mapping = {0: 'Negative', 1: 'Neutral', 2: 'Positive'}"
   ]
  },
  {
   "cell_type": "code",
   "execution_count": 45,
   "id": "85dc05f1",
   "metadata": {},
   "outputs": [],
   "source": [
    "Y_pred = [category_mapping[label] for label in Y_pred]"
   ]
  },
  {
   "cell_type": "code",
   "execution_count": 46,
   "id": "d8577b42",
   "metadata": {},
   "outputs": [],
   "source": [
    "Y_test_labels = [category_mapping[label] for label in Y_test_labels]"
   ]
  },
  {
   "cell_type": "markdown",
   "id": "a11452b1",
   "metadata": {},
   "source": [
    "# Measuring performance metrics and accuracy"
   ]
  },
  {
   "cell_type": "code",
   "execution_count": 47,
   "id": "90a5586e",
   "metadata": {},
   "outputs": [],
   "source": [
    "from sklearn.metrics import classification_report, accuracy_score"
   ]
  },
  {
   "cell_type": "code",
   "execution_count": 48,
   "id": "f34f147c",
   "metadata": {},
   "outputs": [],
   "source": [
    "accuracy = accuracy_score(Y_test_labels, Y_pred)"
   ]
  },
  {
   "cell_type": "code",
   "execution_count": 49,
   "id": "bcd975e9",
   "metadata": {},
   "outputs": [
    {
     "name": "stdout",
     "output_type": "stream",
     "text": [
      "Accuracy: 0.89\n"
     ]
    }
   ],
   "source": [
    "print(f'Accuracy: {accuracy:.2f}')"
   ]
  },
  {
   "cell_type": "markdown",
   "id": "2ae40ba8",
   "metadata": {},
   "source": [
    "# Printing Classification report"
   ]
  },
  {
   "cell_type": "code",
   "execution_count": 50,
   "id": "4d5a924b",
   "metadata": {},
   "outputs": [
    {
     "name": "stdout",
     "output_type": "stream",
     "text": [
      "              precision    recall  f1-score   support\n",
      "\n",
      "    Negative       0.81      0.83      0.82      7152\n",
      "     Neutral       0.92      0.91      0.91     11067\n",
      "    Positive       0.89      0.90      0.90     14375\n",
      "\n",
      "    accuracy                           0.89     32594\n",
      "   macro avg       0.88      0.88      0.88     32594\n",
      "weighted avg       0.89      0.89      0.89     32594\n",
      "\n"
     ]
    }
   ],
   "source": [
    "print(classification_report(Y_test_labels, Y_pred))"
   ]
  }
 ],
 "metadata": {
  "kernelspec": {
   "display_name": "Python 3 (ipykernel)",
   "language": "python",
   "name": "python3"
  },
  "language_info": {
   "codemirror_mode": {
    "name": "ipython",
    "version": 3
   },
   "file_extension": ".py",
   "mimetype": "text/x-python",
   "name": "python",
   "nbconvert_exporter": "python",
   "pygments_lexer": "ipython3",
   "version": "3.11.5"
  }
 },
 "nbformat": 4,
 "nbformat_minor": 5
}
